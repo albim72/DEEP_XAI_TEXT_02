{
 "cells":[
  {
   "cell_type":"code",
   "source":[
    "import matplotlib.pyplot as plt\n",
    "from sklearn import datasets,metrics,svm\n",
    "from sklearn.model_selection import train_test_split"
   ],
   "execution_count":1,
   "outputs":[
    
   ],
   "metadata":{
    "datalore":{
     "node_id":"C5Rb1mYyK1F83LoSk9e8aP",
     "type":"CODE",
     "hide_input_from_viewers":true,
     "hide_output_from_viewers":true
    }
   }
  },
  {
   "cell_type":"code",
   "source":[
    "a=5\n",
    "a*3"
   ],
   "execution_count":2,
   "outputs":[
    {
     "data":{
      "text\/plain":[
       "15"
      ]
     },
     "metadata":{
      
     },
     "output_type":"display_data"
    }
   ],
   "metadata":{
    "datalore":{
     "node_id":"Dlu3EXjvMely0kovBeltUO",
     "type":"CODE",
     "hide_input_from_viewers":true,
     "hide_output_from_viewers":true
    }
   }
  },
  {
   "cell_type":"code",
   "source":[
    "# wygeneruj wektor o gęstości 128, korzystając z numpy. Zbuduj na tym wektorze tablicę czterowymiarową \n",
    "import numpy as np\n",
    "\n",
    "# Generate a vector with 128 elements\n",
    "vector = np.arange(128)\n",
    "\n",
    "# Reshape this vector into a four-dimensional array. Here we take 2x2x2x16 = 128\n",
    "four_d_array = vector.reshape(2, 2, 2, 16)\n",
    "\n",
    "\n",
    "four_d_array"
   ],
   "execution_count":5,
   "outputs":[
    {
     "data":{
      "text\/plain":[
       "array([[[[  0,   1,   2,   3,   4,   5,   6,   7,   8,   9,  10,  11,\n",
       "           12,  13,  14,  15],\n",
       "         [ 16,  17,  18,  19,  20,  21,  22,  23,  24,  25,  26,  27,\n",
       "           28,  29,  30,  31]],\n",
       "\n",
       "        [[ 32,  33,  34,  35,  36,  37,  38,  39,  40,  41,  42,  43,\n",
       "           44,  45,  46,  47],\n",
       "         [ 48,  49,  50,  51,  52,  53,  54,  55,  56,  57,  58,  59,\n",
       "           60,  61,  62,  63]]],\n",
       "\n",
       "\n",
       "       [[[ 64,  65,  66,  67,  68,  69,  70,  71,  72,  73,  74,  75,\n",
       "           76,  77,  78,  79],\n",
       "         [ 80,  81,  82,  83,  84,  85,  86,  87,  88,  89,  90,  91,\n",
       "           92,  93,  94,  95]],\n",
       "\n",
       "        [[ 96,  97,  98,  99, 100, 101, 102, 103, 104, 105, 106, 107,\n",
       "          108, 109, 110, 111],\n",
       "         [112, 113, 114, 115, 116, 117, 118, 119, 120, 121, 122, 123,\n",
       "          124, 125, 126, 127]]]])"
      ]
     },
     "metadata":{
      
     },
     "output_type":"display_data"
    }
   ],
   "metadata":{
    "datalore":{
     "node_id":"JhgIp1PMDUa30Nn9K8kcfu",
     "type":"CODE",
     "hide_input_from_viewers":true,
     "hide_output_from_viewers":true
    }
   }
  },
  {
   "cell_type":"markdown",
   "source":[
    "**Klasyfikator** rozpoznający obrazy z pismem odręcznym: <span style=\"color:red;font-size:16pt;\">cyfry z zakresu 0-9<\/span>."
   ],
   "attachments":{
    
   },
   "metadata":{
    "datalore":{
     "node_id":"doEo8VSBrdarusZJRB7kN5",
     "type":"MD",
     "hide_input_from_viewers":true,
     "hide_output_from_viewers":true
    }
   }
  }
 ],
 "metadata":{
  "kernelspec":{
   "display_name":"Python",
   "language":"python",
   "name":"python"
  },
  "datalore":{
   "computation_mode":"JUPYTER",
   "package_manager":"pip",
   "base_environment":"default",
   "packages":[
    
   ],
   "report_row_ids":[
    
   ],
   "version":3
  }
 },
 "nbformat":4,
 "nbformat_minor":4
}